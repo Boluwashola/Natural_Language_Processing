{
 "cells": [
  {
   "cell_type": "markdown",
   "id": "3d4b63b6",
   "metadata": {},
   "source": [
    "#### Named Entity Recognition: Continuation from my notebook on Google Colab"
   ]
  },
  {
   "cell_type": "code",
   "execution_count": 1,
   "id": "0d41ce41",
   "metadata": {},
   "outputs": [],
   "source": [
    "import nltk"
   ]
  },
  {
   "cell_type": "code",
   "execution_count": 5,
   "id": "f7214d8a",
   "metadata": {},
   "outputs": [
    {
     "name": "stderr",
     "output_type": "stream",
     "text": [
      "[nltk_data] Downloading package punkt_tab to\n",
      "[nltk_data]     C:\\Users\\ADMIN\\AppData\\Roaming\\nltk_data...\n",
      "[nltk_data]   Unzipping tokenizers\\punkt_tab.zip.\n",
      "[nltk_data] Downloading package averaged_perceptron_tagger_eng to\n",
      "[nltk_data]     C:\\Users\\ADMIN\\AppData\\Roaming\\nltk_data...\n",
      "[nltk_data]   Package averaged_perceptron_tagger_eng is already up-to-\n",
      "[nltk_data]       date!\n"
     ]
    },
    {
     "data": {
      "text/plain": [
       "True"
      ]
     },
     "execution_count": 5,
     "metadata": {},
     "output_type": "execute_result"
    }
   ],
   "source": [
    "nltk.download('punkt_tab')\n",
    "nltk.download('averaged_perceptron_tagger_eng')"
   ]
  },
  {
   "cell_type": "code",
   "execution_count": 3,
   "id": "57981966",
   "metadata": {},
   "outputs": [],
   "source": [
    "sentence_eiffel = \"The Eiffel tower was built from 1887 to 1889 by French engineer Gustave Eiffel, whose company company specialized in building metal frameworks and structures\""
   ]
  },
  {
   "cell_type": "code",
   "execution_count": 6,
   "id": "5eda61c2",
   "metadata": {},
   "outputs": [],
   "source": [
    "words_effiel = nltk.word_tokenize(sentence_eiffel)"
   ]
  },
  {
   "cell_type": "code",
   "execution_count": 7,
   "id": "7e0157c6",
   "metadata": {},
   "outputs": [
    {
     "data": {
      "text/plain": [
       "['The',\n",
       " 'Eiffel',\n",
       " 'tower',\n",
       " 'was',\n",
       " 'built',\n",
       " 'from',\n",
       " '1887',\n",
       " 'to',\n",
       " '1889',\n",
       " 'by',\n",
       " 'French',\n",
       " 'engineer',\n",
       " 'Gustave',\n",
       " 'Eiffel',\n",
       " ',',\n",
       " 'whose',\n",
       " 'company',\n",
       " 'company',\n",
       " 'specialized',\n",
       " 'in',\n",
       " 'building',\n",
       " 'metal',\n",
       " 'frameworks',\n",
       " 'and',\n",
       " 'structures']"
      ]
     },
     "execution_count": 7,
     "metadata": {},
     "output_type": "execute_result"
    }
   ],
   "source": [
    "words_effiel"
   ]
  },
  {
   "cell_type": "code",
   "execution_count": 8,
   "id": "c919145e",
   "metadata": {},
   "outputs": [],
   "source": [
    "part_of_speech_tag = nltk.pos_tag(words_effiel)"
   ]
  },
  {
   "cell_type": "code",
   "execution_count": 9,
   "id": "de7076d4",
   "metadata": {},
   "outputs": [
    {
     "data": {
      "text/plain": [
       "[('The', 'DT'),\n",
       " ('Eiffel', 'NNP'),\n",
       " ('tower', 'NN'),\n",
       " ('was', 'VBD'),\n",
       " ('built', 'VBN'),\n",
       " ('from', 'IN'),\n",
       " ('1887', 'CD'),\n",
       " ('to', 'TO'),\n",
       " ('1889', 'CD'),\n",
       " ('by', 'IN'),\n",
       " ('French', 'JJ'),\n",
       " ('engineer', 'NN'),\n",
       " ('Gustave', 'NNP'),\n",
       " ('Eiffel', 'NNP'),\n",
       " (',', ','),\n",
       " ('whose', 'WP$'),\n",
       " ('company', 'NN'),\n",
       " ('company', 'NN'),\n",
       " ('specialized', 'VBD'),\n",
       " ('in', 'IN'),\n",
       " ('building', 'NN'),\n",
       " ('metal', 'NN'),\n",
       " ('frameworks', 'NNS'),\n",
       " ('and', 'CC'),\n",
       " ('structures', 'NNS')]"
      ]
     },
     "execution_count": 9,
     "metadata": {},
     "output_type": "execute_result"
    }
   ],
   "source": [
    "part_of_speech_tag"
   ]
  },
  {
   "cell_type": "code",
   "execution_count": 11,
   "id": "ae69b524",
   "metadata": {},
   "outputs": [
    {
     "name": "stderr",
     "output_type": "stream",
     "text": [
      "[nltk_data] Downloading package words to\n",
      "[nltk_data]     C:\\Users\\ADMIN\\AppData\\Roaming\\nltk_data...\n",
      "[nltk_data]   Unzipping corpora\\words.zip.\n",
      "[nltk_data] Downloading package maxent_ne_chunker_tab to\n",
      "[nltk_data]     C:\\Users\\ADMIN\\AppData\\Roaming\\nltk_data...\n",
      "[nltk_data]   Package maxent_ne_chunker_tab is already up-to-date!\n"
     ]
    },
    {
     "data": {
      "text/plain": [
       "True"
      ]
     },
     "execution_count": 11,
     "metadata": {},
     "output_type": "execute_result"
    }
   ],
   "source": [
    "nltk.download('words')\n",
    "nltk.download('maxent_ne_chunker_tab')"
   ]
  },
  {
   "cell_type": "code",
   "execution_count": 13,
   "id": "ad7eb3fc",
   "metadata": {},
   "outputs": [],
   "source": [
    "nltk.ne_chunk(part_of_speech_tag).draw()"
   ]
  },
  {
   "cell_type": "code",
   "execution_count": null,
   "id": "5b5a5047",
   "metadata": {},
   "outputs": [],
   "source": []
  }
 ],
 "metadata": {
  "kernelspec": {
   "display_name": "Newenv",
   "language": "python",
   "name": "python3"
  },
  "language_info": {
   "codemirror_mode": {
    "name": "ipython",
    "version": 3
   },
   "file_extension": ".py",
   "mimetype": "text/x-python",
   "name": "python",
   "nbconvert_exporter": "python",
   "pygments_lexer": "ipython3",
   "version": "3.13.5"
  }
 },
 "nbformat": 4,
 "nbformat_minor": 5
}
